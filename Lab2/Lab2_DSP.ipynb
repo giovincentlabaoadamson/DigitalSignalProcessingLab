{
 "cells": [
  {
   "cell_type": "code",
   "execution_count": 52,
   "id": "21046390-df09-43e6-9210-0ae4094b4b13",
   "metadata": {},
   "outputs": [
    {
     "name": "stdout",
     "output_type": "stream",
     "text": [
      "The solution is:\n",
      "x = 3.443396226415094\n",
      "y = 4.69811320754717\n",
      "z = 1.6226415094339623\n",
      "w = 0.2358490566037736\n"
     ]
    }
   ],
   "source": [
    "import numpy as np\n",
    "\n",
    "# Define matrix A\n",
    "A = np.array([[1, 1, 1, 1],\n",
    "              [2, -1, 3, 4],\n",
    "              [-3, 2, -2, 5],\n",
    "              [1, -1, 4, -1]])\n",
    "\n",
    "# Define matrix b\n",
    "b = np.array([10, 8, -3, 5])\n",
    "\n",
    "# Solve the matrix thru linear algebra \n",
    "solution = np.linalg.solve(A, b)\n",
    "\n",
    "# Print the solution\n",
    "print(\"The solution is:\")\n",
    "print(f\"x = {solution[0]}\")\n",
    "print(f\"y = {solution[1]}\")\n",
    "print(f\"z = {solution[2]}\")\n",
    "print(f\"w = {solution[3]}\")"
   ]
  },
  {
   "cell_type": "code",
   "execution_count": 53,
   "id": "680d4353-1434-42a0-923d-b6d147d233d9",
   "metadata": {},
   "outputs": [
    {
     "name": "stdout",
     "output_type": "stream",
     "text": [
      "I1 = 9.68 mA\n",
      "I2 = -4.19 mA\n",
      "I3 = 13.87 mA\n"
     ]
    }
   ],
   "source": [
    "import numpy as np\n",
    "\n",
    "# Resistors\n",
    "A = np.array([[1500 + 600, -600], [-600, 900 + 600]])\n",
    "# DC Source\n",
    "b = np.array([12, 15])\n",
    "\n",
    "# Calculate the currents\n",
    "c = np.linalg.solve(A, b)\n",
    "\n",
    "# Assign currents with adjusted signs\n",
    "I1 = c[0]\n",
    "I3 = c[1]\n",
    "I2 = I1-I3\n",
    "\n",
    "# Print the currents\n",
    "print(f\"I1 = {I1 * 1000:.2f} mA\")\n",
    "print(f\"I2 = {I2 * 1000:.2f} mA\")\n",
    "print(f\"I3 = {I3 * 1000:.2f} mA\")"
   ]
  },
  {
   "cell_type": "code",
   "execution_count": 54,
   "id": "e91c2ce7-c60c-47cb-88e6-e57d387d621c",
   "metadata": {},
   "outputs": [
    {
     "name": "stdout",
     "output_type": "stream",
     "text": [
      "[[-0.375 -0.125  0.625]\n",
      " [-0.125  0.625 -0.125]\n",
      " [ 0.625 -0.125 -0.375]]\n"
     ]
    }
   ],
   "source": [
    "import numpy as np\n",
    "\n",
    "# Define matrix A\n",
    "A = np.array([[2, 1, 3], \n",
    "              [1, 2, 1], \n",
    "              [3, 1, 2]])\n",
    "\n",
    "# Calculate the inverse of the matrix A using linear algebra\n",
    "A_inv = np.linalg.inv(A)\n",
    "\n",
    "# Print the inverse\n",
    "print(A_inv)"
   ]
  }
 ],
 "metadata": {
  "kernelspec": {
   "display_name": "Python 3 (ipykernel)",
   "language": "python",
   "name": "python3"
  },
  "language_info": {
   "codemirror_mode": {
    "name": "ipython",
    "version": 3
   },
   "file_extension": ".py",
   "mimetype": "text/x-python",
   "name": "python",
   "nbconvert_exporter": "python",
   "pygments_lexer": "ipython3",
   "version": "3.11.7"
  }
 },
 "nbformat": 4,
 "nbformat_minor": 5
}
